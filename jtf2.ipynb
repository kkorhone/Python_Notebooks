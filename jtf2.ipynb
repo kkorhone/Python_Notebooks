{
  "nbformat": 4,
  "nbformat_minor": 0,
  "metadata": {
    "colab": {
      "name": "pygtest1.ipynb",
      "provenance": [],
      "authorship_tag": "ABX9TyNlneVL9VoHq8CXdglvDg+N",
      "include_colab_link": true
    },
    "kernelspec": {
      "name": "python3",
      "display_name": "Python 3"
    },
    "language_info": {
      "name": "python"
    }
  },
  "cells": [
    {
      "cell_type": "markdown",
      "metadata": {
        "id": "view-in-github",
        "colab_type": "text"
      },
      "source": [
        "<a href=\"https://colab.research.google.com/github/kkorhone/Python_Notebooks/blob/main/jtf2.ipynb\" target=\"_parent\"><img src=\"https://colab.research.google.com/assets/colab-badge.svg\" alt=\"Open In Colab\"/></a>"
      ]
    },
    {
      "cell_type": "code",
      "metadata": {
        "colab": {
          "base_uri": "https://localhost:8080/"
        },
        "id": "_25t8ChDHZ0-",
        "outputId": "ee574480-2325-49e4-b629-64469cb0524d"
      },
      "source": [
        "pip install pygfunction"
      ],
      "execution_count": 20,
      "outputs": [
        {
          "output_type": "stream",
          "name": "stdout",
          "text": [
            "Requirement already satisfied: pygfunction in /usr/local/lib/python3.10/dist-packages (2.2.2)\n",
            "Requirement already satisfied: matplotlib>=3.5.1 in /usr/local/lib/python3.10/dist-packages (from pygfunction) (3.7.1)\n",
            "Requirement already satisfied: numpy>=1.21.5 in /usr/local/lib/python3.10/dist-packages (from pygfunction) (1.25.2)\n",
            "Requirement already satisfied: scipy>=1.7.3 in /usr/local/lib/python3.10/dist-packages (from pygfunction) (1.11.4)\n",
            "Requirement already satisfied: secondarycoolantprops>=1.1 in /usr/local/lib/python3.10/dist-packages (from pygfunction) (1.1)\n",
            "Requirement already satisfied: contourpy>=1.0.1 in /usr/local/lib/python3.10/dist-packages (from matplotlib>=3.5.1->pygfunction) (1.2.1)\n",
            "Requirement already satisfied: cycler>=0.10 in /usr/local/lib/python3.10/dist-packages (from matplotlib>=3.5.1->pygfunction) (0.12.1)\n",
            "Requirement already satisfied: fonttools>=4.22.0 in /usr/local/lib/python3.10/dist-packages (from matplotlib>=3.5.1->pygfunction) (4.52.4)\n",
            "Requirement already satisfied: kiwisolver>=1.0.1 in /usr/local/lib/python3.10/dist-packages (from matplotlib>=3.5.1->pygfunction) (1.4.5)\n",
            "Requirement already satisfied: packaging>=20.0 in /usr/local/lib/python3.10/dist-packages (from matplotlib>=3.5.1->pygfunction) (24.0)\n",
            "Requirement already satisfied: pillow>=6.2.0 in /usr/local/lib/python3.10/dist-packages (from matplotlib>=3.5.1->pygfunction) (9.4.0)\n",
            "Requirement already satisfied: pyparsing>=2.3.1 in /usr/local/lib/python3.10/dist-packages (from matplotlib>=3.5.1->pygfunction) (3.1.2)\n",
            "Requirement already satisfied: python-dateutil>=2.7 in /usr/local/lib/python3.10/dist-packages (from matplotlib>=3.5.1->pygfunction) (2.8.2)\n",
            "Requirement already satisfied: click in /usr/local/lib/python3.10/dist-packages (from secondarycoolantprops>=1.1->pygfunction) (8.1.7)\n",
            "Requirement already satisfied: six>=1.5 in /usr/local/lib/python3.10/dist-packages (from python-dateutil>=2.7->matplotlib>=3.5.1->pygfunction) (1.16.0)\n"
          ]
        }
      ]
    },
    {
      "cell_type": "code",
      "metadata": {
        "id": "jXh0Ne3XHpP8"
      },
      "source": [
        "import matplotlib.pyplot as plt\n",
        "import scipy.interpolate\n",
        "import scipy.optimize\n",
        "import scipy.signal\n",
        "import pygfunction\n",
        "import numpy as np"
      ],
      "execution_count": 21,
      "outputs": []
    },
    {
      "cell_type": "code",
      "source": [
        "def calculate_thermal_resistance(borehole, r_inner, r_outer, shank_spacing, k_rock, verbal=False, visual=False):\n",
        "\n",
        "    if verbal:\n",
        "      print(f\"calculate_thermal_resistance(borehole={borehole}, r_inner={r_inner}, r_outer={r_outer}, shank_spacing={shank_spacing}, k_rock={k_rock})\")\n",
        "\n",
        "    epsilon = 1.0e-6      # Pipe roughness [m]\n",
        "    k_pipe = 0.42         # Pipe thermal conductivity [W/(m*K)]\n",
        "    k_grout = 0.60        # Grout thermal conductivity [W/(m*K)]\n",
        "    flow_rate = 50 / 60   # Fluid flow rate [kg/s] = [L/s]\n",
        "    Cp_fluid = 3795       # Fluid specific isobaric heat capacity [J/(kg*K)]\n",
        "    rho_fluid = 1052      # Fluid density (kg/m3)\n",
        "    mu_fluid = 0.0052     # Fluid dynamic viscosity [Pa*s]\n",
        "    k_fluid = 0.48        # Fluid thermal conductivity [W/(m*K)]\n",
        "\n",
        "    positions = [(-0.5*shank_spacing, 0), (0.5*shank_spacing, 0)]\n",
        "\n",
        "    if verbal:\n",
        "        print(f\"positions={positions}\")\n",
        "\n",
        "    R_pipe = pygfunction.pipes.conduction_thermal_resistance_circular_pipe(r_inner, r_outer, k_pipe)\n",
        "\n",
        "    if verbal:\n",
        "        print(f\"R_pipe={R_pipe}\")\n",
        "\n",
        "    h_fluid = pygfunction.pipes.convective_heat_transfer_coefficient_circular_pipe(flow_rate, r_inner, mu_fluid, rho_fluid, k_fluid, Cp_fluid, epsilon)\n",
        "    R_fluid = 1 / (h_fluid * 2 * np.pi * r_inner)\n",
        "\n",
        "    if verbal:\n",
        "        print(f\"h_fluid={h_fluid}\")\n",
        "        print(f\"R_fluid={R_fluid}\")\n",
        "\n",
        "    u_tube = pygfunction.pipes.SingleUTube(positions, r_inner, r_outer, borehole, k_rock, k_grout, R_fluid+R_pipe)\n",
        "\n",
        "    R_borehole = pygfunction.pipes.borehole_thermal_resistance(u_tube, flow_rate, Cp_fluid)\n",
        "\n",
        "    if verbal:\n",
        "        print(f\"R_borehole={R_borehole:.3f}\")\n",
        "\n",
        "    check = u_tube._check_geometry()\n",
        "\n",
        "    if not check:\n",
        "        raise ValueError(\"Invalid borehole geometry\")\n",
        "\n",
        "    if visual:\n",
        "        u_tube.visualize_pipes()\n",
        "\n",
        "    return R_borehole"
      ],
      "metadata": {
        "id": "wcKuBPpmuN2O"
      },
      "execution_count": 43,
      "outputs": []
    },
    {
      "cell_type": "code",
      "metadata": {
        "id": "tffzeZaLHvnj"
      },
      "source": [
        "def calculate_annual_energy(monthly_fraction, L_borehole, verbal=False, visual=False):\n",
        "\n",
        "    if verbal:\n",
        "        print(f\"calculate_annual_energy(monthly_fraction={monthly_fraction}, L_borehole={L_borehole})\")\n",
        "\n",
        "    assert np.abs(np.sum(monthly_fraction) - 1) < 1e-6\n",
        "\n",
        "    T_surface = 6.1                         # [degC]\n",
        "    q_geothermal = 0.053                    # [W/m^2]\n",
        "\n",
        "    k_rock = 3.84                           # [W/(m*K)]\n",
        "    Cp_rock = 728.0                         # [J/(kg*K)]\n",
        "    rho_rock = 2619.0                       # [kg/m^3]\n",
        "\n",
        "    r_borehole = 0.140 / 2                  # [m]\n",
        "\n",
        "    num_years = 25                          # [1]\n",
        "\n",
        "    T_target = -1.0                         # [degC]\n",
        "\n",
        "    a_rock = k_rock / (rho_rock * Cp_rock)  # [m^2/s]\n",
        "\n",
        "    t_max = num_years * 365 * 24 * 3600.0   # [s]\n",
        "\n",
        "    delta_t = 730 * 3600.0                  # [s]\n",
        "\n",
        "    r_outer = 0.055 / 2                     # [m]\n",
        "    r_inner = r_outer - 0.0033              # [m]\n",
        "\n",
        "    shank_spacing = 0.075\n",
        "\n",
        "    T_initial = T_surface + q_geothermal / k_rock * (0.5 * L_borehole)\n",
        "\n",
        "    if verbal:\n",
        "        print(f\"C_rock={rho_rock*Cp_rock/1e6:.1f}\")\n",
        "        print(f\"T_initial={T_initial:.1f}\")\n",
        "\n",
        "    borehole = pygfunction.boreholes.Borehole(H=L_borehole, D=0, r_b=r_borehole, x=0, y=0)\n",
        "\n",
        "    R_borehole = calculate_thermal_resistance(borehole, r_inner, r_outer, shank_spacing, k_rock, verbal=verbal, visual=visual)\n",
        "\n",
        "    t = pygfunction.utilities.time_geometric(delta_t, t_max, 50)\n",
        "    g = pygfunction.gfunction.uniform_temperature([borehole], t, a_rock, nSegments=32, disp=False)\n",
        "\n",
        "    ti = np.arange(delta_t, t_max+delta_t, delta_t)\n",
        "    gi = scipy.interpolate.interp1d(t, g)(ti)\n",
        "\n",
        "    def evaluate_mean_fluid_temperatures(E_annual):\n",
        "        monthly_heat_load = E_annual * monthly_fraction\n",
        "        heat_rate = np.ravel(np.tile(monthly_heat_load*1_000_000/730.0, (1, num_years)))\n",
        "        specific_heat_rate = heat_rate / L_borehole\n",
        "        delta_q = np.hstack((-specific_heat_rate[0], np.diff(-specific_heat_rate)))\n",
        "        T_wall = T_initial + scipy.signal.fftconvolve(delta_q, gi/(2.0*np.pi*k_rock), mode=\"full\")[:len(ti)]\n",
        "        T_fluid = T_wall - R_borehole * specific_heat_rate\n",
        "        return T_fluid\n",
        "\n",
        "    def cost_function(E_annual):\n",
        "        T_fluid = evaluate_mean_fluid_temperatures(E_annual)\n",
        "        return np.abs(np.min(T_fluid) - T_target)\n",
        "\n",
        "    E_annual = scipy.optimize.fminbound(cost_function, 1, 1000, xtol=0.001)\n",
        "\n",
        "    if verbal:\n",
        "        print(f\"E_annual={E_annual:.3f}\")\n",
        "\n",
        "    if visual:\n",
        "        T_fluid = evaluate_mean_fluid_temperatures(E_annual)\n",
        "        plt.figure()\n",
        "        plt.plot(ti/(365*24*3600), T_fluid)\n",
        "        plt.axhline(T_target, ls=\"--\", color=\"k\")\n",
        "        plt.xlabel(\"Year\")\n",
        "        plt.ylabel(u\"Mean fluid temperature [\\xb0C]\")\n",
        "        plt.title(f\"E_annual = {E_annual:.3f} MWh\")\n",
        "\n",
        "    return E_annual"
      ],
      "execution_count": 44,
      "outputs": []
    },
    {
      "cell_type": "code",
      "metadata": {
        "colab": {
          "base_uri": "https://localhost:8080/"
        },
        "id": "wX5jJhldH5Vc",
        "outputId": "32f0fdc5-10de-40f5-8aff-2b2ae8bc6b4c"
      },
      "source": [
        "if __name__ == \"__main__\":\n",
        "\n",
        "    print(\"Constant heat extraction profile:\")\n",
        "    print(\"L_borehole=600\", \"E_annual=\"+str(calculate_annual_energy(np.ones(12)/12, 600)))\n",
        "    print(\"L_borehole=800\", \"E_annual=\"+str(calculate_annual_energy(np.ones(12)/12, 800)))\n",
        "\n",
        "    print(\"Helsinki heat extraction profile:\")\n",
        "    print(\"L_borehole=600\", \"E_annual=\"+str(calculate_annual_energy(np.array([0.177,0.111,0.111,0.082,0.044,0.037,0.032,0.034,0.044,0.086,0.119,0.123]), 600)))\n",
        "    print(\"L_borehole=800\", \"E_annual=\"+str(calculate_annual_energy(np.array([0.177,0.111,0.111,0.082,0.044,0.037,0.032,0.034,0.044,0.086,0.119,0.123]), 800)))\n",
        "\n",
        "    print(\"EED heat extraction profile:\")\n",
        "    print(\"L_borehole=600\", \"E_annual=\"+str(calculate_annual_energy(np.array([0.155,0.148,0.125,0.099,0.064,0.000,0.000,0.000,0.061,0.087,0.117,0.144]), 600))) # EED=83.3 pygfunction=85.8 difference=3%\n",
        "    print(\"L_borehole=800\", \"E_annual=\"+str(calculate_annual_energy(np.array([0.155,0.148,0.125,0.099,0.064,0.000,0.000,0.000,0.061,0.087,0.117,0.144]), 800))) # EED=119.3 pygfunction=121.7 difference=2%\n"
      ],
      "execution_count": 57,
      "outputs": [
        {
          "output_type": "stream",
          "name": "stdout",
          "text": [
            "Constant heat extraction profile:\n",
            "L_borehole=600 E_annual=140.8504430421353\n",
            "L_borehole=800 E_annual=200.75851230890603\n",
            "Helsinki heat extraction profile:\n",
            "L_borehole=600 E_annual=76.99348895023051\n",
            "L_borehole=800 E_annual=109.10929224315885\n",
            "EED heat extraction profile:\n",
            "L_borehole=600 E_annual=85.81072378816361\n",
            "L_borehole=800 E_annual=121.7324581567558\n"
          ]
        }
      ]
    }
  ]
}