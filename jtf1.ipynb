{
  "nbformat": 4,
  "nbformat_minor": 0,
  "metadata": {
    "colab": {
      "name": "pygtest1.ipynb",
      "provenance": [],
      "authorship_tag": "ABX9TyOJG+nLll3myfGRrEPbEXLs",
      "include_colab_link": true
    },
    "kernelspec": {
      "name": "python3",
      "display_name": "Python 3"
    },
    "language_info": {
      "name": "python"
    }
  },
  "cells": [
    {
      "cell_type": "markdown",
      "metadata": {
        "id": "view-in-github",
        "colab_type": "text"
      },
      "source": [
        "<a href=\"https://colab.research.google.com/github/kkorhone/Python_Notebooks/blob/main/jtf1.ipynb\" target=\"_parent\"><img src=\"https://colab.research.google.com/assets/colab-badge.svg\" alt=\"Open In Colab\"/></a>"
      ]
    },
    {
      "cell_type": "code",
      "metadata": {
        "colab": {
          "base_uri": "https://localhost:8080/"
        },
        "id": "_25t8ChDHZ0-",
        "outputId": "4eb1e95e-a9fa-435d-e694-dc6790a2ccec"
      },
      "source": [
        "pip install pygfunction"
      ],
      "execution_count": 1,
      "outputs": [
        {
          "output_type": "stream",
          "name": "stdout",
          "text": [
            "Collecting pygfunction\n",
            "  Downloading pygfunction-2.2.2-py3-none-any.whl (90 kB)\n",
            "\u001b[?25l     \u001b[90m━━━━━━━━━━━━━━━━━━━━━━━━━━━━━━━━━━━━━━━━\u001b[0m \u001b[32m0.0/90.1 kB\u001b[0m \u001b[31m?\u001b[0m eta \u001b[36m-:--:--\u001b[0m\r\u001b[2K     \u001b[91m━━━━━━━━━━━━━━━━━━━━━━━━━━━━━━━━━━━━\u001b[0m\u001b[90m╺\u001b[0m\u001b[90m━━━\u001b[0m \u001b[32m81.9/90.1 kB\u001b[0m \u001b[31m2.6 MB/s\u001b[0m eta \u001b[36m0:00:01\u001b[0m\r\u001b[2K     \u001b[90m━━━━━━━━━━━━━━━━━━━━━━━━━━━━━━━━━━━━━━━━\u001b[0m \u001b[32m90.1/90.1 kB\u001b[0m \u001b[31m1.6 MB/s\u001b[0m eta \u001b[36m0:00:00\u001b[0m\n",
            "\u001b[?25hRequirement already satisfied: matplotlib>=3.5.1 in /usr/local/lib/python3.10/dist-packages (from pygfunction) (3.7.1)\n",
            "Requirement already satisfied: numpy>=1.21.5 in /usr/local/lib/python3.10/dist-packages (from pygfunction) (1.25.2)\n",
            "Requirement already satisfied: scipy>=1.7.3 in /usr/local/lib/python3.10/dist-packages (from pygfunction) (1.11.4)\n",
            "Collecting secondarycoolantprops>=1.1 (from pygfunction)\n",
            "  Downloading SecondaryCoolantProps-1.1-py3-none-any.whl (13 kB)\n",
            "Requirement already satisfied: contourpy>=1.0.1 in /usr/local/lib/python3.10/dist-packages (from matplotlib>=3.5.1->pygfunction) (1.2.1)\n",
            "Requirement already satisfied: cycler>=0.10 in /usr/local/lib/python3.10/dist-packages (from matplotlib>=3.5.1->pygfunction) (0.12.1)\n",
            "Requirement already satisfied: fonttools>=4.22.0 in /usr/local/lib/python3.10/dist-packages (from matplotlib>=3.5.1->pygfunction) (4.52.4)\n",
            "Requirement already satisfied: kiwisolver>=1.0.1 in /usr/local/lib/python3.10/dist-packages (from matplotlib>=3.5.1->pygfunction) (1.4.5)\n",
            "Requirement already satisfied: packaging>=20.0 in /usr/local/lib/python3.10/dist-packages (from matplotlib>=3.5.1->pygfunction) (24.0)\n",
            "Requirement already satisfied: pillow>=6.2.0 in /usr/local/lib/python3.10/dist-packages (from matplotlib>=3.5.1->pygfunction) (9.4.0)\n",
            "Requirement already satisfied: pyparsing>=2.3.1 in /usr/local/lib/python3.10/dist-packages (from matplotlib>=3.5.1->pygfunction) (3.1.2)\n",
            "Requirement already satisfied: python-dateutil>=2.7 in /usr/local/lib/python3.10/dist-packages (from matplotlib>=3.5.1->pygfunction) (2.8.2)\n",
            "Requirement already satisfied: click in /usr/local/lib/python3.10/dist-packages (from secondarycoolantprops>=1.1->pygfunction) (8.1.7)\n",
            "Requirement already satisfied: six>=1.5 in /usr/local/lib/python3.10/dist-packages (from python-dateutil>=2.7->matplotlib>=3.5.1->pygfunction) (1.16.0)\n",
            "Installing collected packages: secondarycoolantprops, pygfunction\n",
            "Successfully installed pygfunction-2.2.2 secondarycoolantprops-1.1\n"
          ]
        }
      ]
    },
    {
      "cell_type": "code",
      "metadata": {
        "id": "jXh0Ne3XHpP8"
      },
      "source": [
        "import matplotlib.pyplot as plt\n",
        "import scipy.interpolate\n",
        "import scipy.optimize\n",
        "import scipy.signal\n",
        "import pygfunction\n",
        "import numpy as np"
      ],
      "execution_count": 2,
      "outputs": []
    },
    {
      "cell_type": "code",
      "metadata": {
        "id": "tffzeZaLHvnj"
      },
      "source": [
        "def calc(monthly_fraction, L_borehole):\n",
        "\n",
        "    assert np.abs(np.sum(monthly_fraction) - 1) < 1e-6\n",
        "\n",
        "    T_surface = 6.1                         # [degC]\n",
        "    q_geothermal = 0.053                    # [W/m^2]\n",
        "\n",
        "    k_rock = 3.84                           # [W/(m*K)]\n",
        "    Cp_rock = 728.0                         # [J/(kg*K)]\n",
        "    rho_rock = 2619.0                       # [kg/m^3]\n",
        "\n",
        "    R_borehole = 0.085                      # [K/(W/m)]\n",
        "\n",
        "    r_borehole = 0.140 / 2                  # [m]\n",
        "\n",
        "    num_years = 25                          # [1]\n",
        "\n",
        "    T_target = -1.0                         # [degC]\n",
        "\n",
        "    a_rock = k_rock / (rho_rock * Cp_rock)  # [m^2/s]\n",
        "\n",
        "    t_max = num_years * 365 * 24 * 3600.0   # [s]\n",
        "\n",
        "    delta_t = 730 * 3600.0                  # [s]\n",
        "\n",
        "    T_initial = T_surface + q_geothermal / k_rock * (0.5 * L_borehole)\n",
        "\n",
        "    bhe = pygfunction.boreholes.Borehole(H=L_borehole, D=0, r_b=r_borehole, x=0, y=0)\n",
        "\n",
        "    t = pygfunction.utilities.time_geometric(delta_t, t_max, 50)\n",
        "    g = pygfunction.gfunction.uniform_temperature([bhe], t, a_rock, nSegments=32, disp=False)\n",
        "\n",
        "    ti = np.arange(delta_t, t_max+delta_t, delta_t)\n",
        "    gi = scipy.interpolate.interp1d(t, g)(ti)\n",
        "\n",
        "    def evaluate_mean_fluid_temperatures(E_annual):\n",
        "\n",
        "        monthly_heat_load = E_annual * monthly_fraction\n",
        "\n",
        "        heat_rate = np.ravel(np.tile(monthly_heat_load*1_000_000/730.0, (1, num_years)))\n",
        "\n",
        "        specific_heat_rate = heat_rate / L_borehole\n",
        "        delta_q = np.hstack((-specific_heat_rate[0], np.diff(-specific_heat_rate)))\n",
        "\n",
        "        T_wall = T_initial + scipy.signal.fftconvolve(delta_q, gi/(2.0*np.pi*k_rock), mode=\"full\")[:len(ti)]\n",
        "        T_fluid = T_wall - R_borehole * specific_heat_rate\n",
        "\n",
        "        return T_fluid\n",
        "\n",
        "    def cost_function(E_annual):\n",
        "\n",
        "        T_fluid = evaluate_mean_fluid_temperatures(E_annual)\n",
        "\n",
        "        return np.abs(np.min(T_fluid) - T_target)\n",
        "\n",
        "    E_annual = scipy.optimize.fminbound(cost_function, 1, 1000, xtol=0.001)\n",
        "\n",
        "    T_fluid = evaluate_mean_fluid_temperatures(E_annual)\n",
        "\n",
        "    # plt.figure()\n",
        "    # plt.plot(ti/(365*24*3600), T_fluid)\n",
        "    # plt.axhline(T_target, ls=\"--\", color=\"k\")\n",
        "    # plt.xlabel(\"Year\")\n",
        "    # plt.ylabel(u\"Mean fluid temperature [\\xb0C]\")\n",
        "    # plt.title(f\"E_annual = {E_annual:.3f} MWh\")\n",
        "\n",
        "    print(f\"monthly_fraction={monthly_fraction} L_borehole={L_borehole} E_annual={E_annual:.3f}\")"
      ],
      "execution_count": 22,
      "outputs": []
    },
    {
      "cell_type": "code",
      "metadata": {
        "colab": {
          "base_uri": "https://localhost:8080/"
        },
        "id": "wX5jJhldH5Vc",
        "outputId": "a81be437-cb6c-4c2b-e0b6-e3ce979f0abe"
      },
      "source": [
        "if __name__ == \"__main__\":\n",
        "    calc(np.ones(12)/12, 600) # Constant heat extraction\n",
        "    calc(np.ones(12)/12, 800) # Constant heat extraction\n",
        "    calc(np.array([0.177,0.111,0.111,0.082,0.044,0.037,0.032,0.034,0.044,0.086,0.119,0.123]), 600) # Helsinki heat extraction\n",
        "    calc(np.array([0.177,0.111,0.111,0.082,0.044,0.037,0.032,0.034,0.044,0.086,0.119,0.123]), 800) # Helsinki heat extraction\n",
        "    calc(np.array([0.155,0.148,0.125,0.099,0.064,0.000,0.000,0.000,0.061,0.087,0.117,0.144]), 600) # EED heat extraction\n",
        "    calc(np.array([0.155,0.148,0.125,0.099,0.064,0.000,0.000,0.000,0.061,0.087,0.117,0.144]), 800) # EED heat extraction"
      ],
      "execution_count": 24,
      "outputs": [
        {
          "output_type": "stream",
          "name": "stdout",
          "text": [
            "monthly_fraction=[0.08333333 0.08333333 0.08333333 0.08333333 0.08333333 0.08333333\n",
            " 0.08333333 0.08333333 0.08333333 0.08333333 0.08333333 0.08333333] L_borehole=600 E_annual=164.478\n",
            "monthly_fraction=[0.08333333 0.08333333 0.08333333 0.08333333 0.08333333 0.08333333\n",
            " 0.08333333 0.08333333 0.08333333 0.08333333 0.08333333 0.08333333] L_borehole=800 E_annual=245.257\n",
            "monthly_fraction=[0.177 0.111 0.111 0.082 0.044 0.037 0.032 0.034 0.044 0.086 0.119 0.123] L_borehole=600 E_annual=92.405\n",
            "monthly_fraction=[0.177 0.111 0.111 0.082 0.044 0.037 0.032 0.034 0.044 0.086 0.119 0.123] L_borehole=800 E_annual=138.016\n",
            "monthly_fraction=[0.155 0.148 0.125 0.099 0.064 0.    0.    0.    0.061 0.087 0.117 0.144] L_borehole=600 E_annual=102.495\n",
            "monthly_fraction=[0.155 0.148 0.125 0.099 0.064 0.    0.    0.    0.061 0.087 0.117 0.144] L_borehole=800 E_annual=153.051\n"
          ]
        }
      ]
    }
  ]
}