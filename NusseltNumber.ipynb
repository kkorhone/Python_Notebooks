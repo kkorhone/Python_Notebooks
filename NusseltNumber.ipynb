{
  "nbformat": 4,
  "nbformat_minor": 0,
  "metadata": {
    "colab": {
      "name": "Untitled5.ipynb",
      "provenance": [],
      "toc_visible": true,
      "authorship_tag": "ABX9TyPtko4JNSnJlhsIsfA09Gz7",
      "include_colab_link": true
    },
    "kernelspec": {
      "name": "python3",
      "display_name": "Python 3"
    },
    "language_info": {
      "name": "python"
    },
    "accelerator": "GPU"
  },
  "cells": [
    {
      "cell_type": "markdown",
      "metadata": {
        "id": "view-in-github",
        "colab_type": "text"
      },
      "source": [
        "<a href=\"https://colab.research.google.com/github/kkorhone/Python_Notebooks/blob/main/NusseltNumber.ipynb\" target=\"_parent\"><img src=\"https://colab.research.google.com/assets/colab-badge.svg\" alt=\"Open In Colab\"/></a>"
      ]
    },
    {
      "cell_type": "markdown",
      "metadata": {
        "id": "wQwsjMkM6mm4"
      },
      "source": [
        "# **Nusselt number estimation**"
      ]
    },
    {
      "cell_type": "code",
      "metadata": {
        "colab": {
          "base_uri": "https://localhost:8080/"
        },
        "id": "D1cYtne36oO_",
        "outputId": "b39dd2b8-69ba-4160-8df7-8253904e0fbe"
      },
      "source": [
        "import numpy\n",
        "\n",
        "k_fluid = 0.407\n",
        "Cp_fluid = 4206\n",
        "rho_fluid = 967\n",
        "mu_fluid = 6.495e-3\n",
        "Q_fluid = 0.6e-3\n",
        "\n",
        "r_outer = 20e-3\n",
        "r_inner = 17.6e-3\n",
        "r_borehole = 140e-3\n",
        "L_borehole = 300\n",
        "\n",
        "Dh = 2 * r_inner\n",
        "A_inner = numpy.pi * r_inner**2\n",
        "\n",
        "v_fluid = Q_fluid / A_inner\n",
        "Pr_fluid = Cp_fluid * mu_fluid / k_fluid\n",
        "Re_fluid = rho_fluid * v_fluid * Dh / mu_fluid\n",
        "\n",
        "print(f\"v_fluid = {v_fluid}\")\n",
        "print(f\"Pr_fluid = {Pr_fluid}\")\n",
        "print(f\"Re_fluid = {Re_fluid}\")"
      ],
      "execution_count": 133,
      "outputs": [
        {
          "output_type": "stream",
          "text": [
            "v_fluid = 0.6165609882175697\n",
            "Pr_fluid = 67.12031941031941\n",
            "Re_fluid = 3231.2162496297037\n"
          ],
          "name": "stdout"
        }
      ]
    },
    {
      "cell_type": "markdown",
      "metadata": {
        "id": "ZesWkF4q8Yzj"
      },
      "source": [
        "# Darcy friction factor\n",
        "\n",
        "**1. Colebrook-White equation**\n",
        "\n",
        "$\\frac{1}{\\sqrt{f}} = -2\\cdot\\log\\left(\\frac{\\varepsilon/D}{3.7}+\\frac{2.51}{Re\\cdot\\sqrt{f}}\\right)$\n",
        "\n",
        "**2. Haaland equation**\n",
        "\n",
        "$\\frac{1}{\\sqrt{f}} = -1.8\\cdot\\log\\left[\\left(\\frac{\\varepsilon/D}{3.7}\\right)^{1.11}+\\frac{6.9}{Re}\\right]$\n",
        "\n",
        "**Solving for f gives**\n",
        "\n",
        "$f = \\frac{1}{\\left\\{-1.8\\cdot\\log\\left[\\left(\\frac{\\varepsilon/D}{3.7}\\right)^{1.11}+\\frac{6.9}{Re}\\right]\\right\\}^2}$\n",
        "\n",
        "**3. Swamee–Jain equation**\n",
        "\n",
        "$f = \\frac{0.25}{\\left[\\log\\left(\\frac{\\varepsilon/D}{3.7}+\\frac{5.74}{Re^{0.9}}\\right)\\right]^2}$\n",
        "\n",
        "**4. Moody equation**\n",
        "\n",
        "$f = 0.0055\\cdot\\left[1+\\left(2\\cdot{10^4}\\cdot\\frac{\\varepsilon}{D}+\\frac{10^6}{Re}\\right)^{1/3}\\right]$\n",
        "\n",
        "$\\varepsilon$ = pipe roughness (for PE it is $0.0015-0.007\\cdot{10^{-3}}$ m)"
      ]
    },
    {
      "cell_type": "code",
      "metadata": {
        "colab": {
          "base_uri": "https://localhost:8080/"
        },
        "id": "kQtCOJY1-vHL",
        "outputId": "f80b746e-0822-4635-bf0a-55f45e18c12c"
      },
      "source": [
        "import scipy.optimize\n",
        "\n",
        "epsilon = 0.001e-3\n",
        "\n",
        "left = lambda f: 1 / numpy.sqrt(f)\n",
        "rite = lambda f: -2 * numpy.log10(epsilon / Dh / 3.7 + 2.51 / (Re_fluid * numpy.sqrt(f)))\n",
        "\n",
        "f = scipy.optimize.fminbound(lambda f: abs(left(f)-rite(f)), 1e-6, 10)\n",
        "\n",
        "print(f\"Colebrook-White: f = {f}\")\n",
        "\n",
        "f = 1 / (-1.8 * numpy.log10((epsilon/Dh/3.7)**1.11+6.9/Re_fluid))**2\n",
        "\n",
        "print(f\"Haaland:         f = {f}\")\n",
        "\n",
        "f = 0.25 / (numpy.log10(epsilon/Dh/3.7+5.74/Re_fluid**0.9))**2\n",
        "\n",
        "print(f\"Swamee-Jain:     f = {f}\")\n",
        "\n",
        "f = 0.0055 * (1 + (2e4 * epsilon / Dh + 1e6 / Re_fluid)**(1/3))\n",
        "\n",
        "print(f\"Moody:           f = {f}\")"
      ],
      "execution_count": 134,
      "outputs": [
        {
          "output_type": "stream",
          "text": [
            "Colebrook-White: f = 0.04257124892451207\n",
            "Haaland:         f = 0.043291566880123054\n",
            "Swamee-Jain:     f = 0.043450500182242204\n",
            "Moody:           f = 0.042725414947420964\n"
          ],
          "name": "stdout"
        }
      ]
    },
    {
      "cell_type": "markdown",
      "metadata": {
        "id": "uU7_HeQQ3FO9"
      },
      "source": [
        "# Correlations for Nusselt number\n",
        "\n",
        "**1. FEFLOW White Paper**\n",
        "\n",
        "$\\xi = \\left(1.8\\cdot\\log{Re}-1.5\\right)^{-2}$\n",
        "\n",
        "$\\gamma = \\frac{Re-2300}{10^4-2300}$\n",
        "\n",
        "$Nu =\n",
        "\\begin{cases}\n",
        "  4.364 & \\text{for laminar flow if $Re<2300$} \\\\\n",
        "  (1-\\gamma)\\cdot{4.364}+\\gamma\\cdot\\left\\{\\frac{(0.0308/8)\\cdot{10^4}\\cdot{Pr}}{1+12.7\\cdot\\sqrt{0.0308/8}\\cdot(Pr^{2/3}-1)}\\cdot\\left[1+\\left(\\frac{D_h}{L}\\right)^{2/3}\\right]\\right\\} & \\text{for transitional flow if $2300\\le Re<10^4$} \\\\\n",
        "  \\frac{(\\xi/8)\\cdot{Re}\\cdot{Pr}}{1+12.7\\cdot\\sqrt{\\xi/8}\\cdot{(Pr^{2/3}-1)}}\\cdot\\left[1+\\left(\\frac{D_h}{L}\\right)^{2/3}\\right] & \\text{for turbulent flow if $Re\\ge{10^4}$}\n",
        "\\end{cases}$\n",
        "\n",
        "**2. Dittus-Boelter**\n",
        "\n",
        "$Nu = 0.023\\cdot{Re^{0.8}}\\cdot{Pr^n}$\n",
        "\n",
        "$n$ is $0.4$ when the fluid is being heated and $0.3$ when cooled\n",
        "\n",
        "**3. Wikipedia**\n",
        "\n",
        "$Nu = \\frac{(f/8)\\cdot(Re-1000)\\cdot{Pr}}{1+12.7\\cdot(f/8)^{1/2}\\cdot(Pr^{2/3}-1)}$\n",
        "\n",
        "is valid for $2300 < Re < 10^6$ and $0.6 < Pr < 10^5$"
      ]
    },
    {
      "cell_type": "code",
      "metadata": {
        "colab": {
          "base_uri": "https://localhost:8080/"
        },
        "id": "iIw2_Ty7202Z",
        "outputId": "4517f744-e5cb-4bcf-f0e2-0ec8d3038ac3"
      },
      "source": [
        "xi = (1.8 * numpy.log10(Re_fluid) - 1.5)**(-2)\n",
        "gamma = (Re_fluid - 2300) / (1e4 - 2300)\n",
        "\n",
        "print(f\"Friction factor:     xi = {xi}\")\n",
        "\n",
        "if Re_fluid < 2300:\n",
        "  print(f\"Laminar flow:        {Re_fluid} < 2300\")\n",
        "elif Re_fluid < 1e4:\n",
        "  print(f\"Transitional flow:   2300 <= {Re_fluid} < 10000\")\n",
        "else:\n",
        "  print(f\"Turbulent flow:      {Re_fluid} >= 10000\")\n",
        "\n",
        "if gamma < 0:\n",
        "  Nu_fluid = 4.364\n",
        "elif gamma < 1:\n",
        "  Nu_fluid = (1-gamma)*4.364+gamma*((0.0308/8)*1e4*Pr_fluid/(1+12.7*numpy.sqrt(0.0308/8)*(Pr_fluid**(2/3)-1))*(1+(Dh/L_borehole)**(2/3)))\n",
        "else:\n",
        "  Nu_fluid = (xi/8)*Re_fluid*Pr_fluid/(1+12.7*numpy.sqrt(xi/8)*(Pr_fluid**(2/3)-1))*(1+(Dh/L_borehole)**(2/3))\n",
        "\n",
        "print(f\"FEFLOW White Paper:  Nu_fluid = {Nu_fluid}\")\n",
        "\n",
        "Nu_fluid = 0.023 * Re_fluid**0.8 * Pr_fluid**0.4\n",
        "\n",
        "print(f\"Dittus-Boelter:      Nu_fluid = {Nu_fluid}\")\n",
        "\n",
        "f = (0.79 * numpy.log(Re_fluid) - 1.64)**(-2)\n",
        "\n",
        "Nu_fluid = (f/8)*(Re_fluid-1000)*Pr_fluid/(1+12.7*numpy.sqrt(f/8)*(Pr_fluid**(2/3)-1))\n",
        "\n",
        "print(f\"Wikipedia:           Nu_fluid = {Nu_fluid}\")"
      ],
      "execution_count": 140,
      "outputs": [
        {
          "output_type": "stream",
          "text": [
            "Friction factor:     xi = 0.043099492933196384\n",
            "Transitional flow:   2300 <= 3231.2162496297037 < 10000\n",
            "FEFLOW White Paper:  Nu_fluid = 27.520532765235863\n",
            "Dittus-Boelter:      Nu_fluid = 79.42592131462405\n",
            "Wikipedia:           Nu_fluid = 53.03298550645952\n"
          ],
          "name": "stdout"
        }
      ]
    }
  ]
}