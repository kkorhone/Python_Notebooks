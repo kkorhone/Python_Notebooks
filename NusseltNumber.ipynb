{
  "nbformat": 4,
  "nbformat_minor": 0,
  "metadata": {
    "colab": {
      "name": "Untitled5.ipynb",
      "provenance": [],
      "toc_visible": true,
      "authorship_tag": "ABX9TyPSL3WMgxyb2ugkHb8ljGGT",
      "include_colab_link": true
    },
    "kernelspec": {
      "name": "python3",
      "display_name": "Python 3"
    },
    "language_info": {
      "name": "python"
    }
  },
  "cells": [
    {
      "cell_type": "markdown",
      "metadata": {
        "id": "view-in-github",
        "colab_type": "text"
      },
      "source": [
        "<a href=\"https://colab.research.google.com/github/kkorhone/Python_Notebooks/blob/main/NusseltNumber.ipynb\" target=\"_parent\"><img src=\"https://colab.research.google.com/assets/colab-badge.svg\" alt=\"Open In Colab\"/></a>"
      ]
    },
    {
      "cell_type": "markdown",
      "metadata": {
        "id": "wQwsjMkM6mm4"
      },
      "source": [
        "# **Nusselt number estimation**"
      ]
    },
    {
      "cell_type": "code",
      "metadata": {
        "colab": {
          "base_uri": "https://localhost:8080/"
        },
        "id": "D1cYtne36oO_",
        "outputId": "f35e5dd9-18ce-4a71-8d3b-726adae618a6"
      },
      "source": [
        "import numpy\n",
        "\n",
        "# Borehole properties\n",
        "\n",
        "r_borehole = 140e-3\n",
        "L_borehole = 300\n",
        "\n",
        "# Pipe properties\n",
        "\n",
        "r_outer = 20e-3\n",
        "r_inner = 17.6e-3\n",
        "A_inner = numpy.pi * r_inner**2\n",
        "d_inner = 2 * r_inner\n",
        "\n",
        "# Refrigerant properties\n",
        "\n",
        "k_fluid = 0.407\n",
        "Cp_fluid = 4206\n",
        "rho_fluid = 967\n",
        "mu_fluid = 6.495e-3 # [Pa*s]\n",
        "Q_fluid = 0.6e-3 # [m^3/s]\n",
        "v_fluid = Q_fluid / A_inner\n",
        "\n",
        "print(f\"v_fluid = {v_fluid} m/s\")\n",
        "\n",
        "# The dimensionless numbers\n",
        "\n",
        "Pr_fluid = Cp_fluid * mu_fluid / k_fluid\n",
        "Re_fluid = rho_fluid * v_fluid * d_inner / mu_fluid\n",
        "\n",
        "print(f\"Pr_fluid = {Pr_fluid}\")\n",
        "print(f\"Re_fluid = {Re_fluid}\")"
      ],
      "execution_count": 247,
      "outputs": [
        {
          "output_type": "stream",
          "text": [
            "v_fluid = 0.6165609882175697 m/s\n",
            "Pr_fluid = 67.12031941031941\n",
            "Re_fluid = 3231.2162496297037\n"
          ],
          "name": "stdout"
        }
      ]
    },
    {
      "cell_type": "markdown",
      "metadata": {
        "id": "ZesWkF4q8Yzj"
      },
      "source": [
        "# Darcy friction factor\n",
        "\n",
        "**1. Colebrook-White equation**\n",
        "\n",
        "$\\frac{1}{\\sqrt{f}} = -2\\cdot\\log\\left(\\frac{\\varepsilon/D}{3.7}+\\frac{2.51}{Re\\cdot\\sqrt{f}}\\right)$\n",
        "\n",
        "**2. Haaland equation**\n",
        "\n",
        "$\\frac{1}{\\sqrt{f}} = -1.8\\cdot\\log\\left[\\left(\\frac{\\varepsilon/D}{3.7}\\right)^{1.11}+\\frac{6.9}{Re}\\right]$\n",
        "\n",
        "**Solving for f gives**\n",
        "\n",
        "$f = \\frac{1}{\\left\\{-1.8\\cdot\\log\\left[\\left(\\frac{\\varepsilon/D}{3.7}\\right)^{1.11}+\\frac{6.9}{Re}\\right]\\right\\}^2}$\n",
        "\n",
        "**3. Swamee–Jain equation**\n",
        "\n",
        "$f = \\frac{0.25}{\\left[\\log\\left(\\frac{\\varepsilon/D}{3.7}+\\frac{5.74}{Re^{0.9}}\\right)\\right]^2}$\n",
        "\n",
        "**4. Moody equation**\n",
        "\n",
        "$f = 0.0055\\cdot\\left[1+\\left(2\\cdot{10^4}\\cdot\\frac{\\varepsilon}{D}+\\frac{10^6}{Re}\\right)^{1/3}\\right]$\n",
        "\n",
        "where $\\varepsilon$ is pipe roughness (for PE it is $0.0015-0.007\\cdot{10^{-3}}$ m) and $D$ is pipe inner diameter (hydraulic diameter)"
      ]
    },
    {
      "cell_type": "code",
      "metadata": {
        "colab": {
          "base_uri": "https://localhost:8080/"
        },
        "id": "kQtCOJY1-vHL",
        "outputId": "a0457c76-343e-4fdb-deab-4c77f1cbedcc"
      },
      "source": [
        "import scipy.optimize\n",
        "\n",
        "epsilon = 0.001e-3\n",
        "\n",
        "left = lambda f: 1 / numpy.sqrt(f)\n",
        "rite = lambda f: -2 * numpy.log10((epsilon / d_inner) / 3.7 + 2.51 / (Re_fluid * numpy.sqrt(f)))\n",
        "\n",
        "f = scipy.optimize.fminbound(lambda f: abs(left(f) - rite(f)), 1e-6, 1)\n",
        "\n",
        "print(f\"Colebrook-White: f = {f}\")\n",
        "\n",
        "f = 1 / (-1.8 * numpy.log10(((epsilon / d_inner) / 3.7)**1.11 + 6.9 / Re_fluid))**2\n",
        "\n",
        "print(f\"Haaland:         f = {f}\")\n",
        "\n",
        "f = 0.25 / (numpy.log10((epsilon / d_inner) / 3.7 + 5.74 / Re_fluid**0.9))**2\n",
        "\n",
        "print(f\"Swamee-Jain:     f = {f}\")\n",
        "\n",
        "f = 0.0055 * (1 + (2e4 * epsilon / d_inner + 1e6 / Re_fluid)**(1/3))\n",
        "\n",
        "print(f\"Moody:           f = {f}\")"
      ],
      "execution_count": 248,
      "outputs": [
        {
          "output_type": "stream",
          "text": [
            "Colebrook-White: f = 0.042569543117713445\n",
            "Haaland:         f = 0.043291566880123054\n",
            "Swamee-Jain:     f = 0.043450500182242204\n",
            "Moody:           f = 0.042725414947420964\n"
          ],
          "name": "stdout"
        }
      ]
    },
    {
      "cell_type": "markdown",
      "metadata": {
        "id": "uU7_HeQQ3FO9"
      },
      "source": [
        "# Nusselt number (and heat transfer coefficient)\n",
        "\n",
        "$u = \\frac{Re-2300}{10^4-2300}$\n",
        "\n",
        "$f = 0.0055\\cdot\\left[1+\\left(2\\cdot{10^4}\\cdot\\frac{\\varepsilon}{D}+100\\right)^{1/3}\\right]$\n",
        "\n",
        "**1. Gnielinski correlation (FEFLOW White Paper)**\n",
        "\n",
        "\\begin{equation}\n",
        "Nu =\n",
        "\\begin{cases}\n",
        "  4.364 & \\text{for laminar flow when $Re<2300$} \\\\\n",
        "  (1-u)\\cdot{4.364}+u\\cdot\\left\\{\\frac{(0.031/8)\\cdot{10^4}\\cdot{Pr}}{1+12.7\\cdot\\sqrt{0.031/8}\\cdot(Pr^{2/3}-1)}\\cdot\\left[1+\\left(\\frac{D}{L}\\right)^{2/3}\\right]\\right\\} & \\text{for transitional flow when $2300\\le Re<10^4$} \\\\\n",
        "  \\frac{(f/8)\\cdot{Re}\\cdot{Pr}}{1+12.7\\cdot\\sqrt{f/8}\\cdot{(Pr^{2/3}-1)}}\\cdot\\left[1+\\left(\\frac{D}{L}\\right)^{2/3}\\right] & \\text{for turbulent flow when $Re\\ge{10^4}$}\n",
        "\\end{cases}\n",
        "\\end{equation}\n",
        "\n",
        "where $D$ is hydraulic diameter (pipe inner diameter) and $L$ is pipe length\n",
        "\n",
        "**2. Dittus-Boelter correlation (Wikipedia)**\n",
        "\n",
        "\\begin{equation}\n",
        "Nu =\n",
        "\\begin{cases}\n",
        "4.364 & \\text{for laminar flow when $Re < 2300$} \\\\\n",
        "(1-u)\\cdot{4.364}+u\\cdot\\left(0.023\\cdot{10^{3.2}}\\cdot{Pr^n}\\right) & \\text{for transitional flow when $2300 \\le Re < 10000$} \\\\\n",
        "0.023\\cdot{Re^{0.8}}\\cdot{Pr^n} & \\text{for turbulent flow when $Re \\ge 10000$}\n",
        "\\end{cases}\n",
        "\\end{equation}\n",
        "\n",
        "$n$ is $0.4$ when fluid is being heated and $0.3$ when cooled"
      ]
    },
    {
      "cell_type": "code",
      "metadata": {
        "colab": {
          "base_uri": "https://localhost:8080/"
        },
        "id": "iIw2_Ty7202Z",
        "outputId": "eccb7c1a-980f-471e-b6b7-16a6c4b34474"
      },
      "source": [
        "u = (Re_fluid - 2300) / (1e4 - 2300)\n",
        "\n",
        "# Gnielinski correlation\n",
        "\n",
        "if Re_fluid < 2300:\n",
        "  print(f\"Laminar flow:      {Re_fluid} < 2300\")\n",
        "elif Re_fluid < 1e4:\n",
        "  print(f\"Transitional flow: 2300 <= {Re_fluid} < 10000\")\n",
        "else:\n",
        "  print(f\"Turbulent flow:    {Re_fluid} >= 10000\")\n",
        "\n",
        "if Re_fluid < 2300:\n",
        "  Nu_fluid = 4.364\n",
        "elif Re_fluid < 1e4:\n",
        "  Nu_fluid = (1-u)*4.364+u*((0.031/8)*1e4*Pr_fluid/(1+12.7*numpy.sqrt(0.031/8)*(Pr_fluid**(2/3)-1))*(1+(d_inner/L_borehole)**(2/3)))\n",
        "else:\n",
        "  Nu_fluid = (f/8)*Re_fluid*Pr_fluid/(1+12.7*numpy.sqrt(f/8)*(Pr_fluid**(2/3)-1))*(1+(d_inner/L_borehole)**(2/3))\n",
        "\n",
        "h_fluid = Nu_fluid * k_fluid / d_inner\n",
        "\n",
        "print(f\"Gnielinski:        Nu_fluid = {Nu_fluid} (h_fluid={h_fluid})\")\n",
        "\n",
        "# Dittus-Boelter correlation\n",
        "\n",
        "if Re_fluid < 2300:\n",
        "  Nu_fluid = 4.364\n",
        "elif Re_fluid < 1e4:\n",
        "  Nu_fluid = (1-u)*4.364+u*(0.023*1e4**0.8*Pr_fluid**0.4)\n",
        "else:\n",
        "  Nu_fluid = 0.023*Re_fluid**0.8*Pr_fluid**0.4\n",
        "\n",
        "h_fluid = Nu_fluid * k_fluid / d_inner\n",
        "\n",
        "print(f\"Dittus-Boelter:    Nu_fluid = {Nu_fluid} (h_fluid={h_fluid})\")"
      ],
      "execution_count": 249,
      "outputs": [
        {
          "output_type": "stream",
          "text": [
            "Transitional flow: 2300 <= 3231.2162496297037 < 10000\n",
            "Gnielinski:        Nu_fluid = 27.603111182349792 (h_fluid=319.16097304591943)\n",
            "Dittus-Boelter:    Nu_fluid = 27.551565090766516 (h_fluid=318.56497136198783)\n"
          ],
          "name": "stdout"
        }
      ]
    },
    {
      "cell_type": "markdown",
      "metadata": {
        "id": "l94MJ-vPGn8R"
      },
      "source": [
        "# Pressure loss in a BHE\n",
        "\n",
        "**In a pipe shank**\n",
        "\n",
        "$\\Delta{p}_\\text{pipe} = \\frac{f\\cdot\\rho\\cdot{v^2}\\cdot{L}}{2\\cdot{D}}$\n",
        "\n",
        "**In a U-tube BHE**\n",
        "\n",
        "$\\Delta{p} = 2\\cdot\\Delta{p}_\\text{pipe} = 2\\cdot\\frac{f\\cdot\\rho\\cdot{v^2}\\cdot{L}}{2\\cdot{D}}$\n",
        "\n",
        "# Pumping power\n",
        "\n",
        "**1. U-tube**\n",
        "\n",
        "$P = \\frac{\\Delta{p}\\cdot\\dot{Q}}{\\eta}$\n",
        "\n",
        "where $\\dot{Q}$ is volumetric flow rate and $\\eta$ is pump efficiency ($0-1$)"
      ]
    },
    {
      "cell_type": "code",
      "metadata": {
        "colab": {
          "base_uri": "https://localhost:8080/"
        },
        "id": "9-6jwVdH7QNk",
        "outputId": "23fdeb43-e6f5-4714-eb90-9fd32db9c70d"
      },
      "source": [
        "delta_p = 2 * f * rho_fluid * v_fluid**2 * L_borehole / (2 * d_inner)\n",
        "\n",
        "print(f\"delta_p = {delta_p*1e-3} kPa\")\n",
        "\n",
        "eta = 0.5\n",
        "\n",
        "P = (2 * delta_p) * Q_fluid / eta\n",
        "\n",
        "print(f\"P = {P} W\")\n",
        "\n",
        "E = P * 8760\n",
        "\n",
        "print(f\"E = {E*1e-3} kWh\")"
      ],
      "execution_count": 250,
      "outputs": [
        {
          "output_type": "stream",
          "text": [
            "delta_p = 133.85772472252262 kPa\n",
            "P = 321.2585393340542 W\n",
            "E = 2814.224804566315 kWh\n"
          ],
          "name": "stdout"
        }
      ]
    },
    {
      "cell_type": "code",
      "metadata": {
        "colab": {
          "base_uri": "https://localhost:8080/",
          "height": 297
        },
        "id": "9r9uT7AiySWo",
        "outputId": "9fb5e550-d814-406b-d770-3807a9885700"
      },
      "source": [
        "import matplotlib.pyplot as pyplot\n",
        "\n",
        "Re_fluid = numpy.linspace(2, 20000, 201)\n",
        "\n",
        "Nu_fluid1 = numpy.empty_like(Re_fluid)\n",
        "Nu_fluid2 = numpy.empty_like(Re_fluid)\n",
        "\n",
        "f = numpy.empty_like(Re_fluid)\n",
        "\n",
        "for i in range(len(Re_fluid)):\n",
        "  u = (Re_fluid[i] - 2_300) / (10_000 - 2_300)\n",
        "  if Re_fluid[i] < 2300:\n",
        "    f[i] = numpy.nan\n",
        "    Nu_fluid1[i] = 4.364\n",
        "    Nu_fluid2[i] = 4.364\n",
        "  elif Re_fluid[i] < 10000:\n",
        "    f[i] = 0.0055 * (1 + (20_000 * epsilon / d_inner + 1e6 / 10_000)**(1/3))\n",
        "    Nu_fluid1[i] = (1-u)*4.364+u*((f[i]/8)*10_000*Pr_fluid/(1+12.7*numpy.sqrt(f[i]/8)*(Pr_fluid**(2/3)-1))*(1+(d_inner/L_borehole)**(2/3)))\n",
        "    Nu_fluid2[i] = (1-u)*4.364+u*(0.023*10**3.2*Pr_fluid**0.4)\n",
        "  else:\n",
        "    f[i] = 0.0055 * (1 + (2e4 * epsilon / d_inner + 1e6 / Re_fluid[i])**(1/3))\n",
        "    Nu_fluid1[i] = (f[i]/8)*Re_fluid[i]*Pr_fluid/(1+12.7*numpy.sqrt(f[i]/8)*(Pr_fluid**(2/3)-1))*(1+(d_inner/L_borehole)**(2/3))\n",
        "    Nu_fluid2[i] = 0.023*Re_fluid[i]**0.8*Pr_fluid**0.4\n",
        "\n",
        "_, ax1 = pyplot.subplots()\n",
        "\n",
        "ax2 = ax1.twinx()\n",
        "ax3 = ax1.twinx()\n",
        "\n",
        "ax2.spines[\"left\"].set_position((\"axes\", -0.2))\n",
        "ax2.spines[\"left\"].set_visible(True)\n",
        "\n",
        "ax2.yaxis.set_label_position('left')\n",
        "ax2.yaxis.set_ticks_position('left')\n",
        "\n",
        "ax1.plot(Re_fluid, Nu_fluid1, \"r-\")\n",
        "ax1.plot(Re_fluid, Nu_fluid2, \"b-\")\n",
        "\n",
        "ax1.axvline(2_300, color=\"k\", ls=\"--\")\n",
        "ax1.axvline(10_000, color=\"k\", ls=\"--\")\n",
        "\n",
        "ax2.plot(Re_fluid, Nu_fluid1*k_fluid/d_inner, \"r-\")\n",
        "ax2.plot(Re_fluid, Nu_fluid2*k_fluid/d_inner, \"b-\")\n",
        "\n",
        "ax3.plot(Re_fluid, f, \"y-\")\n",
        "\n",
        "ax1.set_ylabel(\"Nusselt number\")\n",
        "ax1.set_xlabel(\"Reynolds number\")\n",
        "ax2.set_ylabel(u\"Heat transfer coefficient [W/m\\xb2K]\")\n",
        "ax3.set_ylabel(\"Darcy friction factor\")\n",
        "\n",
        "pyplot.tight_layout()"
      ],
      "execution_count": 251,
      "outputs": [
        {
          "output_type": "display_data",
          "data": {
            "image/png": "[encoded data removed]",
            "text/plain": [
              "<Figure size 432x288 with 3 Axes>"
            ]
          },
          "metadata": {
            "tags": [],
            "needs_background": "light"
          }
        }
      ]
    }
  ]
}