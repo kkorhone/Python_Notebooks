{
  "nbformat": 4,
  "nbformat_minor": 0,
  "metadata": {
    "colab": {
      "name": "PygThermalResistance.ipynb",
      "provenance": [],
      "authorship_tag": "ABX9TyNfiaHduqNr/ljlRWhWy8Yt",
      "include_colab_link": true
    },
    "kernelspec": {
      "name": "python3",
      "display_name": "Python 3"
    },
    "language_info": {
      "name": "python"
    }
  },
  "cells": [
    {
      "cell_type": "markdown",
      "metadata": {
        "id": "view-in-github",
        "colab_type": "text"
      },
      "source": [
        "<a href=\"https://colab.research.google.com/github/kkorhone/Python_Notebooks/blob/main/PygThermalResistance.ipynb\" target=\"_parent\"><img src=\"https://colab.research.google.com/assets/colab-badge.svg\" alt=\"Open In Colab\"/></a>"
      ]
    },
    {
      "cell_type": "code",
      "metadata": {
        "colab": {
          "base_uri": "https://localhost:8080/"
        },
        "id": "yfELkOKl_wqF",
        "outputId": "5609a4d6-34c1-4216-837b-709c8e2f18f8"
      },
      "source": [
        "pip install pygfunction"
      ],
      "execution_count": 1,
      "outputs": [
        {
          "output_type": "stream",
          "text": [
            "Collecting pygfunction\n",
            "\u001b[?25l  Downloading https://files.pythonhosted.org/packages/93/84/1d682c556baf91985b7fbfcd8b99d1ec7364df32c989146711a0deebd702/pygfunction-1.1.2-py3-none-any.whl (80kB)\n",
            "\u001b[K     |████████████████████████████████| 81kB 3.4MB/s \n",
            "\u001b[?25hRequirement already satisfied: scipy>=1.0.0 in /usr/local/lib/python3.7/dist-packages (from pygfunction) (1.4.1)\n",
            "Requirement already satisfied: matplotlib>=1.5.3 in /usr/local/lib/python3.7/dist-packages (from pygfunction) (3.2.2)\n",
            "Requirement already satisfied: numpy>=1.11.3 in /usr/local/lib/python3.7/dist-packages (from pygfunction) (1.19.5)\n",
            "Requirement already satisfied: pyparsing!=2.0.4,!=2.1.2,!=2.1.6,>=2.0.1 in /usr/local/lib/python3.7/dist-packages (from matplotlib>=1.5.3->pygfunction) (2.4.7)\n",
            "Requirement already satisfied: python-dateutil>=2.1 in /usr/local/lib/python3.7/dist-packages (from matplotlib>=1.5.3->pygfunction) (2.8.1)\n",
            "Requirement already satisfied: cycler>=0.10 in /usr/local/lib/python3.7/dist-packages (from matplotlib>=1.5.3->pygfunction) (0.10.0)\n",
            "Requirement already satisfied: kiwisolver>=1.0.1 in /usr/local/lib/python3.7/dist-packages (from matplotlib>=1.5.3->pygfunction) (1.3.1)\n",
            "Requirement already satisfied: six>=1.5 in /usr/local/lib/python3.7/dist-packages (from python-dateutil>=2.1->matplotlib>=1.5.3->pygfunction) (1.15.0)\n",
            "Installing collected packages: pygfunction\n",
            "Successfully installed pygfunction-1.1.2\n"
          ],
          "name": "stdout"
        }
      ]
    },
    {
      "cell_type": "code",
      "metadata": {
        "id": "vcgzI-W0_5UN"
      },
      "source": [
        "import pygfunction as gt\n",
        "from numpy import pi"
      ],
      "execution_count": 2,
      "outputs": []
    },
    {
      "cell_type": "code",
      "metadata": {
        "colab": {
          "base_uri": "https://localhost:8080/",
          "height": 270
        },
        "id": "jdq2LbNxAFud",
        "outputId": "cbc0f48b-9893-47d4-9090-5be7c6438001"
      },
      "source": [
        "def main():\n",
        "\n",
        "    # Borehole dimensions\n",
        "\n",
        "    H = 300.0       # Borehole length (m)\n",
        "    D = 0.0         # Borehole buried depth (m)\n",
        "    r_b = 0.070     # Borehole radius (m)\n",
        "\n",
        "    # Pipe dimensions\n",
        "\n",
        "    rp_out = 0.020      # Pipe outer radius (m)\n",
        "    rp_in = 0.0176      # Pipe inner radius (m)\n",
        "    D_s = 0.05         # Shank spacing (m)\n",
        "    epsilon = 1.0e-6    # Pipe roughness (m)\n",
        "\n",
        "    # Pipe positions:\n",
        "    # Single U-tube [(x_in, y_in), (x_out, y_out)]\n",
        "\n",
        "    pos = [(-D_s, 0.), (D_s, 0.)]\n",
        "\n",
        "    # Define a borehole\n",
        "\n",
        "    borehole = gt.boreholes.Borehole(H, D, r_b, x=0., y=0.)\n",
        "\n",
        "    # Thermal conductivities\n",
        "\n",
        "    k_p = 0.43     # Pipe thermal conductivity (W/m.K)\n",
        "    k_s = 3.00     # Ground thermal conductivity (W/m.K)\n",
        "    k_g = 1.80     # Grout thermal conductivity (W/m.K)\n",
        "\n",
        "    # Fluid properties\n",
        "\n",
        "    m_flow = 0.6       # Total fluid mass flow rate per borehole (kg/s)\n",
        "    cp_f = 4022.       # Fluid specific isobaric heat capacity (J/kg.K)\n",
        "    den_f = 960.0      # Fluid density (kg/m3)\n",
        "    visc_f = 0.006     # Fluid dynamic viscosity (kg/m.s)\n",
        "    k_f = 0.43         # Fluid thermal conductivity (W/m.K)\n",
        "\n",
        "    # Pipe thermal resistance\n",
        "\n",
        "    R_p = gt.pipes.conduction_thermal_resistance_circular_pipe(rp_in, rp_out, k_p)\n",
        "\n",
        "    # Fluid to inner pipe wall thermal resistance (Single U-tube)\n",
        "\n",
        "    h_f = gt.pipes.convective_heat_transfer_coefficient_circular_pipe(m_flow, rp_in, visc_f, den_f, k_f, cp_f, epsilon)\n",
        "    R_f = 1.0 / (h_f * 2 * pi * rp_in)\n",
        "\n",
        "    SingleUTube = gt.pipes.SingleUTube(pos, rp_in, rp_out, borehole, k_s, k_g, R_f+R_p)\n",
        "\n",
        "    Rb = gt.pipes.borehole_thermal_resistance(SingleUTube, m_flow, cp_f)\n",
        "\n",
        "    print(f\"Borehole thermal resistance: {Rb:.4f} m.K/W\")\n",
        "\n",
        "    # Check the geometry to make sure it is physically possible\n",
        "\n",
        "    # This class method is automatically called at the instanciation of the\n",
        "    # pipe object and raises an error if the pipe geometry is invalid. It is\n",
        "    # manually called here for demosntration.\n",
        "\n",
        "    check = SingleUTube._check_geometry()\n",
        "\n",
        "    print(\"The geometry of the borehole is valid (realistic/possible): \" + str(check))\n",
        "\n",
        "    # Create a borehole top view\n",
        "\n",
        "    fig = SingleUTube.visualize_pipes()\n",
        "\n",
        "    # Save the figure as a pdf\n",
        "\n",
        "    # fig.savefig('borehole-top-view.pdf')\n",
        "\n",
        "\n",
        "if __name__ == '__main__':\n",
        "    main()"
      ],
      "execution_count": 6,
      "outputs": [
        {
          "output_type": "stream",
          "text": [
            "Borehole thermal resistance: 0.0798 m.K/W\n",
            "The geometry of the borehole is valid (realistic/possible): True\n"
          ],
          "name": "stdout"
        },
        {
          "output_type": "display_data",
          "data": {
            "image/png": "[encoded data removed]",
            "text/plain": [
              "<Figure size 226.772x226.772 with 1 Axes>"
            ]
          },
          "metadata": {
            "tags": [],
            "needs_background": "light"
          }
        }
      ]
    }
  ]
}