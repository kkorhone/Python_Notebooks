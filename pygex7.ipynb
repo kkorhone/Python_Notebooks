{
  "nbformat": 4,
  "nbformat_minor": 0,
  "metadata": {
    "colab": {
      "name": "pygex7.ipynb",
      "provenance": [],
      "authorship_tag": "ABX9TyNAyEohhp+8keaN1bxH9ca5",
      "include_colab_link": true
    },
    "kernelspec": {
      "name": "python3",
      "display_name": "Python 3"
    },
    "language_info": {
      "name": "python"
    }
  },
  "cells": [
    {
      "cell_type": "markdown",
      "metadata": {
        "id": "view-in-github",
        "colab_type": "text"
      },
      "source": [
        "<a href=\"https://colab.research.google.com/github/kkorhone/Python_Notebooks/blob/main/pygex7.ipynb\" target=\"_parent\"><img src=\"https://colab.research.google.com/assets/colab-badge.svg\" alt=\"Open In Colab\"/></a>"
      ]
    },
    {
      "cell_type": "code",
      "metadata": {
        "colab": {
          "base_uri": "https://localhost:8080/"
        },
        "id": "8IeuBnx1wH7M",
        "outputId": "20cdb8de-9dee-44d2-bbad-e81efba63f0c"
      },
      "source": [
        "pip install pygfunction"
      ],
      "execution_count": 1,
      "outputs": [
        {
          "output_type": "stream",
          "text": [
            "Collecting pygfunction\n",
            "\u001b[?25l  Downloading https://files.pythonhosted.org/packages/93/84/1d682c556baf91985b7fbfcd8b99d1ec7364df32c989146711a0deebd702/pygfunction-1.1.2-py3-none-any.whl (80kB)\n",
            "\u001b[K     |████████████████████████████████| 81kB 3.6MB/s \n",
            "\u001b[?25hRequirement already satisfied: scipy>=1.0.0 in /usr/local/lib/python3.7/dist-packages (from pygfunction) (1.4.1)\n",
            "Requirement already satisfied: matplotlib>=1.5.3 in /usr/local/lib/python3.7/dist-packages (from pygfunction) (3.2.2)\n",
            "Requirement already satisfied: numpy>=1.11.3 in /usr/local/lib/python3.7/dist-packages (from pygfunction) (1.19.5)\n",
            "Requirement already satisfied: python-dateutil>=2.1 in /usr/local/lib/python3.7/dist-packages (from matplotlib>=1.5.3->pygfunction) (2.8.1)\n",
            "Requirement already satisfied: pyparsing!=2.0.4,!=2.1.2,!=2.1.6,>=2.0.1 in /usr/local/lib/python3.7/dist-packages (from matplotlib>=1.5.3->pygfunction) (2.4.7)\n",
            "Requirement already satisfied: cycler>=0.10 in /usr/local/lib/python3.7/dist-packages (from matplotlib>=1.5.3->pygfunction) (0.10.0)\n",
            "Requirement already satisfied: kiwisolver>=1.0.1 in /usr/local/lib/python3.7/dist-packages (from matplotlib>=1.5.3->pygfunction) (1.3.1)\n",
            "Requirement already satisfied: six>=1.5 in /usr/local/lib/python3.7/dist-packages (from python-dateutil>=2.1->matplotlib>=1.5.3->pygfunction) (1.15.0)\n",
            "Installing collected packages: pygfunction\n",
            "Successfully installed pygfunction-1.1.2\n"
          ],
          "name": "stdout"
        }
      ]
    },
    {
      "cell_type": "code",
      "metadata": {
        "id": "jqqK0QO1v9Lm"
      },
      "source": [
        "import matplotlib.pyplot as plt\n",
        "import numpy as np\n",
        "\n",
        "from matplotlib.ticker import AutoMinorLocator\n",
        "from scipy.constants import pi\n",
        "from scipy.interpolate import interp1d\n",
        "from scipy.signal import fftconvolve\n",
        "\n",
        "import pygfunction as gt"
      ],
      "execution_count": 4,
      "outputs": []
    },
    {
      "cell_type": "code",
      "metadata": {
        "id": "0q8g3mbYwSjE"
      },
      "source": [
        "def synthetic_load(x):\n",
        "  \n",
        "    A = 2000.0\n",
        "    B = 2190.0\n",
        "    C = 80.0\n",
        "    D = 2.0\n",
        "    E = 0.01\n",
        "    F = 0.0\n",
        "    G = 0.95\n",
        "\n",
        "    func = (168.0 - C) / 168.0\n",
        "\n",
        "    for i in [1,2,3]:\n",
        "        func += 1.0 / (i * pi) * (np.cos(C * pi * i / 84.0) - 1.0) * (np.sin(pi * i / 84.0 * (x - B)))\n",
        "\n",
        "    func = func * A * np.sin(pi / 12.0 * (x - B)) * np.sin(pi / 4380.0 * (x - B))\n",
        "\n",
        "    y = func + (-1.0)**np.floor(D / 8760.0 * (x - B)) * abs(func) + E * (-1.0)**np.floor(D / 8760.0 * (x - B)) / np.sign(np.cos(D * pi / 4380.0 * (x - F)) + G)\n",
        "\n",
        "    return -np.array([y])"
      ],
      "execution_count": 6,
      "outputs": []
    },
    {
      "cell_type": "code",
      "metadata": {
        "colab": {
          "base_uri": "https://localhost:8080/",
          "height": 297
        },
        "id": "8wmPxpJ5v09Y",
        "outputId": "f4c32531-ca6c-4e95-a4a3-b3efba08739f"
      },
      "source": [
        "if __name__ == '__main__':\n",
        "\n",
        "    # -------------------------------------------------------------------------\n",
        "    # Simulation parameters\n",
        "    # -------------------------------------------------------------------------\n",
        "\n",
        "    # Borehole dimensions\n",
        "\n",
        "    D = 4.0             # Borehole buried depth (m)\n",
        "    H = 150.0           # Borehole length (m)\n",
        "    r_b = 0.075         # Borehole radius (m)\n",
        "\n",
        "    # Ground properties\n",
        "\n",
        "    alpha = 1.0e-6      # Ground thermal diffusivity (m2/s)\n",
        "    k_s = 2.0           # Ground thermal conductivity (W/m.K)\n",
        "    T_g = 10.0          # Undisturbed ground temperature (degC)\n",
        "\n",
        "    # Number of segments per borehole\n",
        "\n",
        "    nSegments = 12\n",
        "\n",
        "    # Simulation parameters\n",
        "\n",
        "    dt = 3600.                  # Time step (s)\n",
        "    tmax = 20. * 8760. * 3600.  # Maximum time (s)\n",
        "    Nt = int(np.ceil(tmax/dt))  # Number of time steps\n",
        "\n",
        "    # Load aggregation scheme\n",
        "\n",
        "    LoadAgg = gt.load_aggregation.ClaessonJaved(dt, tmax)\n",
        "\n",
        "    # -------------------------------------------------------------------------\n",
        "    # Calculate g-function\n",
        "    # -------------------------------------------------------------------------\n",
        "\n",
        "    # The field contains only one borehole\n",
        "\n",
        "    boreField = [gt.boreholes.Borehole(H, D, r_b, x=0., y=0.)]\n",
        "    \n",
        "    # Get time values needed for g-function evaluation\n",
        "    \n",
        "    time_req = LoadAgg.get_times_for_simulation()\n",
        "    \n",
        "    # Calculate g-function\n",
        "    \n",
        "    gFunc = gt.gfunction.uniform_temperature(boreField, time_req, alpha, nSegments=nSegments)\n",
        "    \n",
        "    # Initialize load aggregation scheme\n",
        "    \n",
        "    LoadAgg.initialize(gFunc/(2*pi*k_s))\n",
        "\n",
        "    # -------------------------------------------------------------------------\n",
        "    # Simulation\n",
        "    # -------------------------------------------------------------------------\n",
        "\n",
        "    time = 0.\n",
        "    i = -1\n",
        "    T_b = np.zeros(Nt)\n",
        "    Q = np.zeros(Nt)\n",
        "\n",
        "    while time < tmax:\n",
        "\n",
        "        # Increment time step by (1)\n",
        "\n",
        "        time += dt\n",
        "        i += 1\n",
        "        LoadAgg.next_time_step(time)\n",
        "\n",
        "        # Evaluate heat extraction rate\n",
        "\n",
        "        Q[i] = synthetic_load(time/3600.)\n",
        "\n",
        "        # Apply current load\n",
        "\n",
        "        LoadAgg.set_current_load(Q[i]/H)\n",
        "\n",
        "        # Evaluate borehole wall temeprature\n",
        "\n",
        "        deltaT_b = LoadAgg.temporal_superposition()\n",
        "        T_b[i] = T_g - deltaT_b\n",
        "\n",
        "    # -------------------------------------------------------------------------\n",
        "    # Calculate exact solution from convolution in the Fourier domain\n",
        "    # -------------------------------------------------------------------------\n",
        "\n",
        "    # Heat extraction rate increment\n",
        "    dQ = np.zeros(Nt)\n",
        "    dQ[0] = Q[0]\n",
        "    # Interpolated g-function\n",
        "    time = np.array([(j+1)*dt for j in range(Nt)])\n",
        "    g = interp1d(time_req, gFunc)(time)\n",
        "    for i in range(1, Nt):\n",
        "        dQ[i] = Q[i] - Q[i-1]\n",
        "\n",
        "    # Convolution in Fourier domain\n",
        "    T_b_exact = T_g - fftconvolve(dQ, g/(2.0*pi*k_s*H), mode='full')[0:Nt]\n",
        "\n",
        "    # -------------------------------------------------------------------------\n",
        "    # plot results\n",
        "    # -------------------------------------------------------------------------\n",
        "\n",
        "    plt.rc('figure')\n",
        "    fig = plt.figure()\n",
        "\n",
        "    ax1 = fig.add_subplot(311)\n",
        "    # Axis labels\n",
        "    ax1.set_xlabel(r'$t$ (hours)')\n",
        "    ax1.set_ylabel(r'$Q$ (W)')\n",
        "    hours = np.array([(j+1)*dt/3600. for j in range(Nt)])\n",
        "    ax1.plot(hours, Q, 'b-', lw=1.5)\n",
        "\n",
        "    ax2 = fig.add_subplot(312)\n",
        "    # Axis labels\n",
        "    ax2.set_xlabel(r'$t$ (hours)')\n",
        "    ax2.set_ylabel(r'$T_b$ (degC)')\n",
        "    ax2.plot(hours, T_b, 'b-', lw=1.5)\n",
        "    ax2.plot(hours, T_b_exact, 'k.', lw=1.5)\n",
        "\n",
        "    ax3 = fig.add_subplot(313)\n",
        "    # Axis labels\n",
        "    ax3.set_xlabel(r'$t$ (hours)')\n",
        "    ax3.set_ylabel(r'Error (degC)')\n",
        "    ax3.plot(hours, T_b - T_b_exact, 'b-', lw=1.5)\n",
        "    # Show minor ticks\n",
        "    ax1.xaxis.set_minor_locator(AutoMinorLocator())\n",
        "    ax1.yaxis.set_minor_locator(AutoMinorLocator())\n",
        "    ax2.xaxis.set_minor_locator(AutoMinorLocator())\n",
        "    ax2.yaxis.set_minor_locator(AutoMinorLocator())\n",
        "    ax3.xaxis.set_minor_locator(AutoMinorLocator())\n",
        "    ax3.yaxis.set_minor_locator(AutoMinorLocator())\n",
        "    # Adjust to plot window\n",
        "    plt.tight_layout()"
      ],
      "execution_count": 7,
      "outputs": [
        {
          "output_type": "display_data",
          "data": {
            "image/png": "[encoded data removed]",
            "text/plain": [
              "<Figure size 432x288 with 3 Axes>"
            ]
          },
          "metadata": {
            "tags": [],
            "needs_background": "light"
          }
        }
      ]
    }
  ]
}