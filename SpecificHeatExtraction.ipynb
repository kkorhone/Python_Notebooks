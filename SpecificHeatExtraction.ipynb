{
  "nbformat": 4,
  "nbformat_minor": 0,
  "metadata": {
    "colab": {
      "name": "SpecificHeatExtraction.ipynb",
      "provenance": [],
      "authorship_tag": "ABX9TyPhbK21HsnIoDpKu60W6szK",
      "include_colab_link": true
    },
    "kernelspec": {
      "name": "python3",
      "display_name": "Python 3"
    },
    "language_info": {
      "name": "python"
    }
  },
  "cells": [
    {
      "cell_type": "markdown",
      "metadata": {
        "id": "view-in-github",
        "colab_type": "text"
      },
      "source": [
        "<a href=\"https://colab.research.google.com/github/kkorhone/Python_Notebooks/blob/main/SpecificHeatExtraction.ipynb\" target=\"_parent\"><img src=\"https://colab.research.google.com/assets/colab-badge.svg\" alt=\"Open In Colab\"/></a>"
      ]
    },
    {
      "cell_type": "code",
      "metadata": {
        "id": "VrMO-s0pn8su"
      },
      "source": [
        "import numpy as np\n",
        "import matplotlib.pyplot as plt"
      ],
      "execution_count": 11,
      "outputs": []
    },
    {
      "cell_type": "markdown",
      "metadata": {
        "id": "rGAFv78xqnzL"
      },
      "source": [
        "This data was calculated using a U-tube COMSOL model"
      ]
    },
    {
      "cell_type": "code",
      "metadata": {
        "id": "boaJu8rGnwh3"
      },
      "source": [
        "L = np.array([300,400,500,600]) # [m]\n",
        "E = np.array([51.5, 73.6, 98.3, 125.6]) # [MWh/a]\n",
        "Q = E * 1e6 / 8760 # [W]\n",
        "e = E * 1e3 / L # [kWh/a/m]\n",
        "q = Q / L # [W/m]"
      ],
      "execution_count": 12,
      "outputs": []
    },
    {
      "cell_type": "code",
      "metadata": {
        "colab": {
          "base_uri": "https://localhost:8080/"
        },
        "id": "cZWtS2OroQY7",
        "outputId": "0f7a10cd-ef1d-46a9-a48e-52e5a28396b1"
      },
      "source": [
        "print(L)\n",
        "print(E)\n",
        "print(Q)\n",
        "print(e)\n",
        "print(q)"
      ],
      "execution_count": 13,
      "outputs": [
        {
          "output_type": "stream",
          "text": [
            "[300 400 500 600]\n",
            "[ 51.5  73.6  98.3 125.6]\n",
            "[ 5878.99543379  8401.82648402 11221.46118721 14337.89954338]\n",
            "[171.66666667 184.         196.6        209.33333333]\n",
            "[19.59665145 21.00456621 22.44292237 23.89649924]\n"
          ],
          "name": "stdout"
        }
      ]
    },
    {
      "cell_type": "code",
      "metadata": {
        "colab": {
          "base_uri": "https://localhost:8080/",
          "height": 297
        },
        "id": "KhKfX2sAo3R9",
        "outputId": "1a333194-5c9c-4eee-90ea-6c3852692387"
      },
      "source": [
        "plt.plot(L, q, \"bo\")\n",
        "plt.xlabel(\"Borehole length [m]\")\n",
        "plt.ylabel(\"Specific heat extraction rate [W/m]\")\n",
        "ax = plt.twinx()\n",
        "ax.plot(L, e, \"b-\")\n",
        "ax.set_ylabel(\"Specific heat extraction [kWh/a/m]\")\n",
        "plt.tight_layout()"
      ],
      "execution_count": 32,
      "outputs": [
        {
          "output_type": "display_data",
          "data": {
            "image/png": "[encoded data removed]",
            "text/plain": [
              "<Figure size 432x288 with 2 Axes>"
            ]
          },
          "metadata": {
            "tags": [],
            "needs_background": "light"
          }
        }
      ]
    }
  ]
}